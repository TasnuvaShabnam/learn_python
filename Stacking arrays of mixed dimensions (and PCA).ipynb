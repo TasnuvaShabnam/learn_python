{
 "cells": [
  {
   "cell_type": "code",
   "execution_count": 605,
   "metadata": {},
   "outputs": [],
   "source": [
    "import numpy as np\n",
    "import scipy.stats as stats"
   ]
  },
  {
   "cell_type": "markdown",
   "metadata": {},
   "source": [
    "# Stacking arrays of different np.dtype\n",
    "\n",
    "Many raster images are stored as unsigned integers. Many image analysis algorithms produce floating point values as output. There are use cases when it is necessary to produce an array that combines the original (integer) raster image data with the output (floating point) data. This is often called image stacking. This is fairly straight forward as long as the analyst remembers that the output image must be of a single data type (float) and that the original data must be cast as floating point values. \n",
    "\n",
    "This tutorial will work through an example where a small image (3 bands, 4 rows, 5 column) of synthetic data will be used as input into a Principal Components Analysis (PCA). The PCA produces 3 output arrays, one for each principal component. The first principal component is then \"stacked\" with the original data...the original data being cast as floating point values. \n",
    "\n",
    "* If you are only interested in the stacking part, then jump to the bottom (B. Image Stacking)\n",
    "\n",
    "---"
   ]
  },
  {
   "cell_type": "markdown",
   "metadata": {},
   "source": [
    "### A. Principal Components\n",
    "\n",
    "##### 1. Suppose we have an image with 3 bands, 4 rows and 5 columns composed of unsigned 8-bit integer values..."
   ]
  },
  {
   "cell_type": "code",
   "execution_count": 606,
   "metadata": {},
   "outputs": [],
   "source": [
    "raster = np.array([round(np.random.rand()*10) + x for x in np.arange(1, 61)]).reshape(3, 4, 5).astype(np.uint8)"
   ]
  },
  {
   "cell_type": "code",
   "execution_count": 607,
   "metadata": {},
   "outputs": [
    {
     "data": {
      "text/plain": [
       "array([[[ 7, 12, 12, 13, 11],\n",
       "        [ 7,  8, 11, 17, 18],\n",
       "        [20, 12, 14, 17, 22],\n",
       "        [25, 24, 23, 23, 29]],\n",
       "\n",
       "       [[29, 24, 28, 32, 28],\n",
       "        [26, 35, 29, 29, 37],\n",
       "        [38, 38, 37, 36, 41],\n",
       "        [41, 44, 39, 46, 44]],\n",
       "\n",
       "       [[45, 50, 51, 49, 50],\n",
       "        [55, 50, 51, 59, 52],\n",
       "        [55, 53, 58, 54, 62],\n",
       "        [62, 65, 63, 65, 65]]], dtype=uint8)"
      ]
     },
     "execution_count": 607,
     "metadata": {},
     "output_type": "execute_result"
    }
   ],
   "source": [
    "raster"
   ]
  },
  {
   "cell_type": "code",
   "execution_count": 608,
   "metadata": {},
   "outputs": [
    {
     "data": {
      "text/plain": [
       "(3, 4, 5)"
      ]
     },
     "execution_count": 608,
     "metadata": {},
     "output_type": "execute_result"
    }
   ],
   "source": [
    "raster.shape"
   ]
  },
  {
   "cell_type": "markdown",
   "metadata": {},
   "source": [
    "##### 2. Let's plot the data...to show that it is highly correlated."
   ]
  },
  {
   "cell_type": "code",
   "execution_count": 609,
   "metadata": {},
   "outputs": [
    {
     "data": {
      "text/plain": [
       "<matplotlib.collections.PathCollection at 0x7f9fd47d4f60>"
      ]
     },
     "execution_count": 609,
     "metadata": {},
     "output_type": "execute_result"
    },
    {
     "data": {
      "image/png": "[encoded data removed]",
      "text/plain": [
       "<matplotlib.figure.Figure at 0x7f9fd48f7898>"
      ]
     },
     "metadata": {},
     "output_type": "display_data"
    }
   ],
   "source": [
    "fig, axs = plt.subplots(3, 1, figsize=(10, 10))\n",
    "axs[0].set_title(\"Band to Band Comparisons\")\n",
    "axs[0].set_xlabel(\"Band 1\")\n",
    "axs[0].set_ylabel(\"Band 2\")\n",
    "axs[0].scatter(raster[0].reshape(-1), raster[1].reshape(-1))\n",
    "\n",
    "axs[1].set_xlabel(\"Band 1\")\n",
    "axs[1].set_ylabel(\"Band 3\")\n",
    "axs[1].scatter(raster[0].reshape(-1), raster[2].reshape(-1))\n",
    "\n",
    "axs[2].set_xlabel(\"Band 2\")\n",
    "axs[2].set_ylabel(\"Band 3\")\n",
    "axs[2].scatter(raster[1].reshape(-1), raster[2].reshape(-1))"
   ]
  },
  {
   "cell_type": "code",
   "execution_count": 610,
   "metadata": {},
   "outputs": [
    {
     "name": "stdout",
     "output_type": "stream",
     "text": [
      "Pearson Correlation Coefficient: 0.814167495437, p-value: 1.25105927743e-05\n"
     ]
    }
   ],
   "source": [
    "corr = stats.pearsonr(raster[0].reshape(-1), raster[1].reshape(-1))\n",
    "print(\"Pearson Correlation Coefficient: \" + str(corr[0]) + \", p-value: \" + str(corr[1]))"
   ]
  },
  {
   "cell_type": "markdown",
   "metadata": {},
   "source": [
    "##### See above...it's strongly correlated. When data is highly correlated it is redundant. Principal Components Analysis is a data reduction technique that captures most of the variation in a dataset.\n",
    "\n",
    "##### 3. First, import the PCA module from Scikit-learn"
   ]
  },
  {
   "cell_type": "code",
   "execution_count": 611,
   "metadata": {},
   "outputs": [],
   "source": [
    "from sklearn.decomposition import PCA"
   ]
  },
  {
   "cell_type": "markdown",
   "metadata": {},
   "source": [
    "##### 4. Redimension the raster to the structure expected by Scikit-learn"
   ]
  },
  {
   "cell_type": "code",
   "execution_count": 612,
   "metadata": {},
   "outputs": [],
   "source": [
    "sklearn_like = raster.reshape(raster.shape[0], raster.shape[1]*raster.shape[2]).T"
   ]
  },
  {
   "cell_type": "code",
   "execution_count": 613,
   "metadata": {},
   "outputs": [
    {
     "data": {
      "text/plain": [
       "array([[ 7, 29, 45],\n",
       "       [12, 24, 50],\n",
       "       [12, 28, 51],\n",
       "       [13, 32, 49],\n",
       "       [11, 28, 50],\n",
       "       [ 7, 26, 55],\n",
       "       [ 8, 35, 50],\n",
       "       [11, 29, 51],\n",
       "       [17, 29, 59],\n",
       "       [18, 37, 52],\n",
       "       [20, 38, 55],\n",
       "       [12, 38, 53],\n",
       "       [14, 37, 58],\n",
       "       [17, 36, 54],\n",
       "       [22, 41, 62],\n",
       "       [25, 41, 62],\n",
       "       [24, 44, 65],\n",
       "       [23, 39, 63],\n",
       "       [23, 46, 65],\n",
       "       [29, 44, 65]], dtype=uint8)"
      ]
     },
     "execution_count": 613,
     "metadata": {},
     "output_type": "execute_result"
    }
   ],
   "source": [
    "sklearn_like"
   ]
  },
  {
   "cell_type": "code",
   "execution_count": 614,
   "metadata": {},
   "outputs": [
    {
     "data": {
      "text/plain": [
       "(20, 3)"
      ]
     },
     "execution_count": 614,
     "metadata": {},
     "output_type": "execute_result"
    }
   ],
   "source": [
    "sklearn_like.shape"
   ]
  },
  {
   "cell_type": "markdown",
   "metadata": {},
   "source": [
    "##### 5. And perform the PCA, saving all 3 principal components...for now."
   ]
  },
  {
   "cell_type": "code",
   "execution_count": 615,
   "metadata": {},
   "outputs": [],
   "source": [
    "pca = PCA(n_components=3)"
   ]
  },
  {
   "cell_type": "code",
   "execution_count": 616,
   "metadata": {},
   "outputs": [
    {
     "data": {
      "text/plain": [
       "PCA(copy=True, iterated_power='auto', n_components=3, random_state=None,\n",
       "  svd_solver='auto', tol=0.0, whiten=False)"
      ]
     },
     "execution_count": 616,
     "metadata": {},
     "output_type": "execute_result"
    }
   ],
   "source": [
    "pca.fit(sklearn_like)"
   ]
  },
  {
   "cell_type": "markdown",
   "metadata": {},
   "source": [
    "* As you can see below, the first principal component explains most of the variation in the dataset."
   ]
  },
  {
   "cell_type": "code",
   "execution_count": 617,
   "metadata": {},
   "outputs": [
    {
     "data": {
      "text/plain": [
       "array([ 0.8774334 ,  0.08030832,  0.04225828])"
      ]
     },
     "execution_count": 617,
     "metadata": {},
     "output_type": "execute_result"
    }
   ],
   "source": [
    "pca.explained_variance_ratio_"
   ]
  },
  {
   "cell_type": "markdown",
   "metadata": {},
   "source": [
    "* Below we actually transform the original data to the new principal components, producing floating point values."
   ]
  },
  {
   "cell_type": "code",
   "execution_count": 618,
   "metadata": {},
   "outputs": [],
   "source": [
    "pc = pca.transform(raster.reshape(raster.shape[0], raster.shape[1]*raster.shape[2]).T)"
   ]
  },
  {
   "cell_type": "code",
   "execution_count": 619,
   "metadata": {},
   "outputs": [
    {
     "data": {
      "text/plain": [
       "array([[ -1.49696881e+01,  -3.45333171e+00,  -7.98711237e-01],\n",
       "       [ -1.20995355e+01,   4.57807362e+00,  -2.30162599e+00],\n",
       "       [ -9.22872898e+00,   1.93280369e+00,  -9.74592914e-01],\n",
       "       [ -7.42995825e+00,  -2.06985857e+00,  -2.29486513e+00],\n",
       "       [ -1.03814159e+01,   1.12327280e+00,  -8.48210549e-01],\n",
       "       [ -1.11438505e+01,   4.35422684e+00,   4.98099433e+00],\n",
       "       [ -8.12033955e+00,  -5.25737873e+00,   2.64103285e+00],\n",
       "       [ -9.24657879e+00,   8.68253419e-01,  -4.37792298e-02],\n",
       "       [ -1.21809560e+00,   6.80890032e+00,   4.58388048e-01],\n",
       "       [  1.14397516e-01,  -3.08941668e+00,  -3.31623549e+00],\n",
       "       [  3.55460861e+00,  -1.72537429e+00,  -2.76456890e+00],\n",
       "       [ -2.32980298e+00,  -4.95123655e+00,   2.02787442e+00],\n",
       "       [  1.06545657e+00,  -9.10232204e-01,   3.49160130e+00],\n",
       "       [  5.15961660e-02,  -1.47700497e+00,  -1.47336151e+00],\n",
       "       [  1.03768554e+01,   2.12090921e-01,   6.56421795e-01],\n",
       "       [  1.21663742e+01,   1.01549117e+00,  -1.61341750e+00],\n",
       "       [  1.49743794e+01,  -1.73670650e-02,   1.55648956e+00],\n",
       "       [  1.03722294e+01,   2.61512217e+00,   1.81638258e-01],\n",
       "       [  1.55351861e+01,  -1.87866752e+00,   2.66150383e+00],\n",
       "       [  1.79569108e+01,   1.32163335e+00,  -2.22657593e+00]])"
      ]
     },
     "execution_count": 619,
     "metadata": {},
     "output_type": "execute_result"
    }
   ],
   "source": [
    "pc"
   ]
  },
  {
   "cell_type": "code",
   "execution_count": 620,
   "metadata": {},
   "outputs": [
    {
     "data": {
      "text/plain": [
       "(20, 3)"
      ]
     },
     "execution_count": 620,
     "metadata": {},
     "output_type": "execute_result"
    }
   ],
   "source": [
    "pc.shape"
   ]
  },
  {
   "cell_type": "code",
   "execution_count": 621,
   "metadata": {},
   "outputs": [
    {
     "data": {
      "text/plain": [
       "dtype('float64')"
      ]
     },
     "execution_count": 621,
     "metadata": {},
     "output_type": "execute_result"
    }
   ],
   "source": [
    "pc.dtype"
   ]
  },
  {
   "cell_type": "markdown",
   "metadata": {},
   "source": [
    "##### 6. Restructure the floating point arrays to raster_like format."
   ]
  },
  {
   "cell_type": "code",
   "execution_count": 622,
   "metadata": {},
   "outputs": [],
   "source": [
    "raster_pc = pc1.T.reshape(raster.shape[0], raster.shape[1], raster.shape[2])"
   ]
  },
  {
   "cell_type": "code",
   "execution_count": 623,
   "metadata": {},
   "outputs": [
    {
     "data": {
      "text/plain": [
       "array([[[  1.65066418e+01,   1.53990720e+01,   1.18284992e+01,\n",
       "           1.30442570e+01,   1.00881560e+01],\n",
       "        [  6.11033664e+00,   6.07427398e+00,   4.90372963e+00,\n",
       "           4.93979229e+00,   2.62104001e+00],\n",
       "        [ -1.94891462e+00,  -2.53647450e+00,  -4.34894303e+00,\n",
       "          -4.89586484e+00,  -1.06409392e+01],\n",
       "        [ -1.18612725e+01,  -1.12330745e+01,  -1.17845718e+01,\n",
       "          -1.58751545e+01,  -1.63905890e+01]],\n",
       "\n",
       "       [[  6.22270894e-02,   2.21859217e+00,  -1.93483869e+00,\n",
       "           1.49477533e-01,  -4.36007349e-01],\n",
       "        [  1.77918454e+00,   3.65624106e-01,  -1.76033780e+00,\n",
       "          -3.46777369e-01,  -1.00233157e+00],\n",
       "        [  1.24128395e+00,   5.42104529e-01,  -7.86184999e-01,\n",
       "          -7.99407049e-01,   4.58496274e-02],\n",
       "        [ -1.31086354e+00,   7.42732631e-02,   7.88654274e-01,\n",
       "          -5.09232082e-01,   1.61870936e+00]],\n",
       "\n",
       "       [[ -7.17219643e-01,  -3.65966657e-01,  -3.61256243e-01,\n",
       "          -7.82633474e-01,   2.03138041e+00],\n",
       "        [  1.51188243e+00,   1.53525718e+00,  -4.92083907e-01,\n",
       "          -5.15458656e-01,  -9.55500221e-01],\n",
       "        [ -6.69661068e-01,  -1.07699572e+00,   1.36239043e+00,\n",
       "          -2.80990753e-01,  -8.09820899e-01],\n",
       "        [  8.24228114e-01,  -4.48376666e-03,  -4.35193165e-01,\n",
       "           3.28104884e-01,  -1.25979263e-01]]])"
      ]
     },
     "execution_count": 623,
     "metadata": {},
     "output_type": "execute_result"
    }
   ],
   "source": [
    "raster_pc"
   ]
  },
  {
   "cell_type": "code",
   "execution_count": 624,
   "metadata": {},
   "outputs": [
    {
     "data": {
      "text/plain": [
       "dtype('float64')"
      ]
     },
     "execution_count": 624,
     "metadata": {},
     "output_type": "execute_result"
    }
   ],
   "source": [
    "raster_pc.dtype"
   ]
  },
  {
   "cell_type": "markdown",
   "metadata": {},
   "source": [
    "##### 7. Let's plot our principal components and see what we find."
   ]
  },
  {
   "cell_type": "code",
   "execution_count": 625,
   "metadata": {},
   "outputs": [
    {
     "data": {
      "text/plain": [
       "<matplotlib.collections.PathCollection at 0x7f9fd465c358>"
      ]
     },
     "execution_count": 625,
     "metadata": {},
     "output_type": "execute_result"
    },
    {
     "data": {
      "image/png": "[encoded data removed]",
      "text/plain": [
       "<matplotlib.figure.Figure at 0x7f9fd480dd68>"
      ]
     },
     "metadata": {},
     "output_type": "display_data"
    }
   ],
   "source": [
    "fig, axs = plt.subplots(3, 1, figsize=(10, 10))\n",
    "axs[0].set_title(\"Comparisons of Principal Components\")\n",
    "axs[0].set_xlabel(\"PC 1\")\n",
    "axs[0].set_ylabel(\"PC 2\")\n",
    "axs[0].scatter(raster_pc[0].reshape(-1), raster_pc[1].reshape(-1))\n",
    "\n",
    "axs[1].set_xlabel(\"PC 1\")\n",
    "axs[1].set_ylabel(\"PC 3\")\n",
    "axs[1].scatter(raster_pc[0].reshape(-1), raster_pc[2].reshape(-1))\n",
    "\n",
    "axs[2].set_xlabel(\"PC 2\")\n",
    "axs[2].set_ylabel(\"PC 3\")\n",
    "axs[2].scatter(raster_pc[1].reshape(-1), raster_pc[2].reshape(-1))"
   ]
  },
  {
   "cell_type": "code",
   "execution_count": 626,
   "metadata": {},
   "outputs": [
    {
     "name": "stdout",
     "output_type": "stream",
     "text": [
      "Pearson Correlation Coefficient: 1.45057132439e-15, p-value: 1.0\n"
     ]
    }
   ],
   "source": [
    "corr = stats.pearsonr(raster_pc[0].reshape(-1), raster_pc[1].reshape(-1))\n",
    "print(\"Pearson Correlation Coefficient: \" + str(corr[0]) + \", p-value: \" + str(corr[1]))"
   ]
  },
  {
   "cell_type": "markdown",
   "metadata": {},
   "source": [
    "##### The Pearson Correlation Coefficient above demonstrates that there is no relationship between the first 2 principal components, which is good...because there shouldn't be--they should be orthagonal.\n",
    "\n",
    "##### 8. Below a plot and correlation coefficient is shown for image band #1 and principal component #1"
   ]
  },
  {
   "cell_type": "code",
   "execution_count": 627,
   "metadata": {},
   "outputs": [
    {
     "data": {
      "text/plain": [
       "<matplotlib.collections.PathCollection at 0x7f9fd45eeb00>"
      ]
     },
     "execution_count": 627,
     "metadata": {},
     "output_type": "execute_result"
    },
    {
     "data": {
      "image/png": "[encoded data removed]",
      "text/plain": [
       "<matplotlib.figure.Figure at 0x7f9fd4890198>"
      ]
     },
     "metadata": {},
     "output_type": "display_data"
    }
   ],
   "source": [
    "fig, axs = plt.subplots(1, 1, figsize=(10, 5))\n",
    "axs.set_title(\"Comparisons of Principal Component #1 and Band #1\")\n",
    "axs.set_xlabel(\"Band 1\")\n",
    "axs.set_ylabel(\"PC #1\")\n",
    "axs.scatter(raster[0].reshape(-1), raster_pc[0].reshape(-1))"
   ]
  },
  {
   "cell_type": "code",
   "execution_count": 628,
   "metadata": {},
   "outputs": [
    {
     "name": "stdout",
     "output_type": "stream",
     "text": [
      "Pearson Correlation Coefficient: -0.856722923749, p-value: 1.41962962579e-06\n"
     ]
    }
   ],
   "source": [
    "corr = stats.pearsonr(raster[0].reshape(-1), raster_pc[0].reshape(-1))\n",
    "print(\"Pearson Correlation Coefficient: \" + str(corr[0]) + \", p-value: \" + str(corr[1]))"
   ]
  },
  {
   "cell_type": "markdown",
   "metadata": {},
   "source": [
    "##### The Pearson Correlation Coefficient above demonstrates that a strong relationship exists between principal component #1 and band #1. This is as expected--principal component #1 explains most of the variation in the image.\n",
    "\n",
    "### B. Image Stacking\n",
    "\n",
    "##### 9. Stack original image (with integer values) with principal component #1 (with floating point values) to produce a floating point image with 4 bands, 4 rows and 5 columns."
   ]
  },
  {
   "cell_type": "markdown",
   "metadata": {},
   "source": [
    "* The original image consists of unsigned 8-bit integers (uint8) and is of size \\[3\\]\\[4\\]\\[5\\]. The PCA image consists of 64-bit floating point values (float64) and is also of size \\[3\\]\\[4\\]\\[5\\]. We will stack all original bands with the 1st band of the PCA image."
   ]
  },
  {
   "cell_type": "code",
   "execution_count": 629,
   "metadata": {},
   "outputs": [
    {
     "data": {
      "text/plain": [
       "dtype('uint8')"
      ]
     },
     "execution_count": 629,
     "metadata": {},
     "output_type": "execute_result"
    }
   ],
   "source": [
    "raster.dtype"
   ]
  },
  {
   "cell_type": "code",
   "execution_count": 630,
   "metadata": {},
   "outputs": [
    {
     "data": {
      "text/plain": [
       "(3, 4, 5)"
      ]
     },
     "execution_count": 630,
     "metadata": {},
     "output_type": "execute_result"
    }
   ],
   "source": [
    "raster.shape"
   ]
  },
  {
   "cell_type": "code",
   "execution_count": 631,
   "metadata": {},
   "outputs": [
    {
     "data": {
      "text/plain": [
       "dtype('float64')"
      ]
     },
     "execution_count": 631,
     "metadata": {},
     "output_type": "execute_result"
    }
   ],
   "source": [
    "raster_pc.dtype"
   ]
  },
  {
   "cell_type": "code",
   "execution_count": 632,
   "metadata": {},
   "outputs": [
    {
     "data": {
      "text/plain": [
       "(3, 4, 5)"
      ]
     },
     "execution_count": 632,
     "metadata": {},
     "output_type": "execute_result"
    }
   ],
   "source": [
    "raster_pc.shape"
   ]
  },
  {
   "cell_type": "code",
   "execution_count": 633,
   "metadata": {},
   "outputs": [],
   "source": [
    "raster_stack = np.append(raster, raster_pc[0]).reshape(4, 4, 5)"
   ]
  },
  {
   "cell_type": "code",
   "execution_count": 634,
   "metadata": {},
   "outputs": [
    {
     "data": {
      "text/plain": [
       "array([[[  7.        ,  12.        ,  12.        ,  13.        ,  11.        ],\n",
       "        [  7.        ,   8.        ,  11.        ,  17.        ,  18.        ],\n",
       "        [ 20.        ,  12.        ,  14.        ,  17.        ,  22.        ],\n",
       "        [ 25.        ,  24.        ,  23.        ,  23.        ,  29.        ]],\n",
       "\n",
       "       [[ 29.        ,  24.        ,  28.        ,  32.        ,  28.        ],\n",
       "        [ 26.        ,  35.        ,  29.        ,  29.        ,  37.        ],\n",
       "        [ 38.        ,  38.        ,  37.        ,  36.        ,  41.        ],\n",
       "        [ 41.        ,  44.        ,  39.        ,  46.        ,  44.        ]],\n",
       "\n",
       "       [[ 45.        ,  50.        ,  51.        ,  49.        ,  50.        ],\n",
       "        [ 55.        ,  50.        ,  51.        ,  59.        ,  52.        ],\n",
       "        [ 55.        ,  53.        ,  58.        ,  54.        ,  62.        ],\n",
       "        [ 62.        ,  65.        ,  63.        ,  65.        ,  65.        ]],\n",
       "\n",
       "       [[ 16.50664181,  15.39907196,  11.82849919,  13.04425702,\n",
       "          10.08815599],\n",
       "        [  6.11033664,   6.07427398,   4.90372963,   4.93979229,\n",
       "           2.62104001],\n",
       "        [ -1.94891462,  -2.5364745 ,  -4.34894303,  -4.89586484,\n",
       "         -10.64093924],\n",
       "        [-11.86127248, -11.23307453, -11.78457175, -15.87515448,\n",
       "         -16.39058904]]])"
      ]
     },
     "execution_count": 634,
     "metadata": {},
     "output_type": "execute_result"
    }
   ],
   "source": [
    "raster_stack"
   ]
  },
  {
   "cell_type": "code",
   "execution_count": 635,
   "metadata": {},
   "outputs": [
    {
     "data": {
      "text/plain": [
       "(4, 4, 5)"
      ]
     },
     "execution_count": 635,
     "metadata": {},
     "output_type": "execute_result"
    }
   ],
   "source": [
    "raster_stack.shape"
   ]
  },
  {
   "cell_type": "code",
   "execution_count": 636,
   "metadata": {},
   "outputs": [
    {
     "data": {
      "text/plain": [
       "dtype('float64')"
      ]
     },
     "execution_count": 636,
     "metadata": {},
     "output_type": "execute_result"
    }
   ],
   "source": [
    "raster_stack.dtype"
   ]
  },
  {
   "cell_type": "markdown",
   "metadata": {},
   "source": [
    "##### 10. Once we have the stacked image it is often desirable to save the image to disk. We will use Rasterio for this."
   ]
  },
  {
   "cell_type": "code",
   "execution_count": 637,
   "metadata": {},
   "outputs": [],
   "source": [
    "import rasterio\n",
    "from affine import Affine"
   ]
  },
  {
   "cell_type": "code",
   "execution_count": 638,
   "metadata": {},
   "outputs": [],
   "source": [
    "transform = Affine.scale(30, 30)"
   ]
  },
  {
   "cell_type": "code",
   "execution_count": 639,
   "metadata": {},
   "outputs": [],
   "source": [
    "meta = {\"driver\": \"GTiff\", \"width\": 5, \"height\": 4, \"count\": 4, \"dtype\": \"float64\", \"transform\": transform}"
   ]
  },
  {
   "cell_type": "code",
   "execution_count": 640,
   "metadata": {},
   "outputs": [
    {
     "data": {
      "text/plain": [
       "{'count': 4,\n",
       " 'driver': 'GTiff',\n",
       " 'dtype': 'float64',\n",
       " 'height': 4,\n",
       " 'transform': Affine(30, 0.0, 0.0,\n",
       "       0.0, 30, 0.0),\n",
       " 'width': 5}"
      ]
     },
     "execution_count": 640,
     "metadata": {},
     "output_type": "execute_result"
    }
   ],
   "source": [
    "meta"
   ]
  },
  {
   "cell_type": "code",
   "execution_count": 641,
   "metadata": {},
   "outputs": [],
   "source": [
    "with rasterio.open(\"stacked.tif\", \"w\", **meta) as dst:\n",
    "    dst.write(raster_stack)\n",
    "    dst.close()"
   ]
  },
  {
   "cell_type": "markdown",
   "metadata": {},
   "source": [
    "##### 11. To check if it was written successfully, let's read the image (again, using Rasterio) and display it. "
   ]
  },
  {
   "cell_type": "code",
   "execution_count": 642,
   "metadata": {},
   "outputs": [],
   "source": [
    "%matplotlib inline\n",
    "import matplotlib\n",
    "import matplotlib.pyplot as plt"
   ]
  },
  {
   "cell_type": "code",
   "execution_count": 644,
   "metadata": {},
   "outputs": [
    {
     "data": {
      "image/png": "[encoded data removed]",
      "text/plain": [
       "<matplotlib.figure.Figure at 0x7f9fe9253c50>"
      ]
     },
     "metadata": {},
     "output_type": "display_data"
    }
   ],
   "source": [
    "with rasterio.open(\"stacked.tif\") as src:\n",
    "    plt.imshow(src.read(4))\n",
    "    plt.colorbar()"
   ]
  },
  {
   "cell_type": "markdown",
   "metadata": {},
   "source": [
    "## Success! "
   ]
  }
 ],
 "metadata": {
  "kernelspec": {
   "display_name": "Python 3",
   "language": "python",
   "name": "python3"
  },
  "language_info": {
   "codemirror_mode": {
    "name": "ipython",
    "version": 3
   },
   "file_extension": ".py",
   "mimetype": "text/x-python",
   "name": "python",
   "nbconvert_exporter": "python",
   "pygments_lexer": "ipython3",
   "version": "3.7.3"
  }
 },
 "nbformat": 4,
 "nbformat_minor": 4
}
